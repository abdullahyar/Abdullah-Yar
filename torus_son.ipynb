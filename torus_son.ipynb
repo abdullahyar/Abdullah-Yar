{
  "nbformat": 4,
  "nbformat_minor": 0,
  "metadata": {
    "colab": {
      "name": "torus son",
      "provenance": [],
      "collapsed_sections": [],
      "mount_file_id": "1rMwBOd9Rq7TnX_XwMayAhaNj7dmAlIGo",
      "authorship_tag": "ABX9TyMg8EFyASERXjwa5soJN/lE",
      "include_colab_link": true
    },
    "kernelspec": {
      "name": "python3",
      "display_name": "Python 3"
    },
    "language_info": {
      "name": "python"
    },
    "accelerator": "GPU"
  },
  "cells": [
    {
      "cell_type": "markdown",
      "metadata": {
        "id": "view-in-github",
        "colab_type": "text"
      },
      "source": [
        "<a href=\"https://colab.research.google.com/github/abdullahyar23/Abdullah-Yar/blob/master/torus_son.ipynb\" target=\"_parent\"><img src=\"https://colab.research.google.com/assets/colab-badge.svg\" alt=\"Open In Colab\"/></a>"
      ]
    },
    {
      "cell_type": "code",
      "execution_count": null,
      "metadata": {
        "colab": {
          "base_uri": "https://localhost:8080/"
        },
        "id": "p0d9EL5Eyoxt",
        "outputId": "fdd49b8e-c948-4df0-c689-598e29aa32bb"
      },
      "outputs": [
        {
          "output_type": "stream",
          "name": "stdout",
          "text": [
            "Drive already mounted at /content/drive; to attempt to forcibly remount, call drive.mount(\"/content/drive\", force_remount=True).\n"
          ]
        }
      ],
      "source": [
        "from google.colab import drive\n",
        "drive.mount('/content/drive')"
      ]
    },
    {
      "cell_type": "code",
      "source": [
        "import numpy as np\n",
        "import cv2\n",
        "import os\n",
        "from sklearn.model_selection import train_test_split\n",
        "from sklearn.metrics import confusion_matrix\n",
        "import seaborn as sns\n",
        "import matplotlib.pyplot as plt\n",
        "import tensorflow as tf\n",
        "from tensorflow.keras.models import Sequential\n",
        "from tensorflow.keras.applications import ResNet50\n",
        "from tensorflow.keras.layers import Dense\n",
        "from tensorflow.keras.layers import Conv2D\n",
        "from tensorflow.keras.layers import MaxPooling2D\n",
        "from tensorflow.keras.layers import Flatten\n",
        "from tensorflow.keras.layers import Dropout\n",
        "from tensorflow.keras.utils import image_dataset_from_directory\n",
        "\n",
        "#from keras.utils import to_categorical\n",
        "\n",
        "from keras.preprocessing.image import ImageDataGenerator\n",
        "import pickle"
      ],
      "metadata": {
        "id": "NhbY_sebx4An"
      },
      "execution_count": null,
      "outputs": []
    },
    {
      "cell_type": "code",
      "source": [
        "#!git clone https://github.com/codebox/image_augmentor.git"
      ],
      "metadata": {
        "colab": {
          "base_uri": "https://localhost:8080/"
        },
        "id": "O-J7cwOE-9ZC",
        "outputId": "f29cbf0a-a205-42ba-994c-bdda1527f7a5"
      },
      "execution_count": null,
      "outputs": [
        {
          "output_type": "stream",
          "name": "stdout",
          "text": [
            "Cloning into 'image_augmentor'...\n",
            "remote: Enumerating objects: 78, done.\u001b[K\n",
            "remote: Counting objects: 100% (3/3), done.\u001b[K\n",
            "remote: Compressing objects: 100% (3/3), done.\u001b[K\n",
            "remote: Total 78 (delta 0), reused 0 (delta 0), pack-reused 75\u001b[K\n",
            "Unpacking objects: 100% (78/78), done.\n"
          ]
        }
      ]
    },
    {
      "cell_type": "code",
      "source": [
        "#!python /content/image_augmentor/main.py /content/drive/MyDrive/torusyeniduzenleme/train/kirik_degil fliph flipv rot_90 noise_0.01"
      ],
      "metadata": {
        "id": "hk7gF5Lh_Bf0"
      },
      "execution_count": null,
      "outputs": []
    },
    {
      "cell_type": "code",
      "source": [
        "#!python /content/image_augmentor/main.py /content/drive/MyDrive/torusyeniduzenleme/test/kirik_degil fliph flipv rot_90 noise_0.01"
      ],
      "metadata": {
        "id": "pZoxsuqaNU_F"
      },
      "execution_count": null,
      "outputs": []
    },
    {
      "cell_type": "code",
      "source": [
        "#!python /content/image_augmentor/main.py /content/drive/MyDrive/torusyeniduzenleme/test/kirik fliph flipv rot_90 noise_0.01"
      ],
      "metadata": {
        "id": "9bc7mlHaNYOq"
      },
      "execution_count": null,
      "outputs": []
    },
    {
      "cell_type": "code",
      "source": [
        "#!python /content/image_augmentor/main.py /content/drive/MyDrive/torusyeniduzenleme/train/kirik fliph flipv rot_90 noise_0.01"
      ],
      "metadata": {
        "id": "ILcFbyr8NZyN"
      },
      "execution_count": null,
      "outputs": []
    },
    {
      "cell_type": "code",
      "source": [
        "train = image_dataset_from_directory(\"/content/drive/MyDrive/torusyeniduzenleme/train\", image_size=(100, 100))\n",
        "test = image_dataset_from_directory(\"/content/drive/MyDrive/torusyeniduzenleme/test\", image_size=(100, 100))"
      ],
      "metadata": {
        "colab": {
          "base_uri": "https://localhost:8080/"
        },
        "id": "FpCLnIEmyI72",
        "outputId": "bcbc7e37-3f32-4c21-b860-25e076c99f38"
      },
      "execution_count": null,
      "outputs": [
        {
          "output_type": "stream",
          "name": "stdout",
          "text": [
            "Found 1640 files belonging to 3 classes.\n",
            "Found 340 files belonging to 3 classes.\n"
          ]
        }
      ]
    },
    {
      "cell_type": "code",
      "source": [
        "base = ResNet50(include_top=False, input_shape=(100, 100, 3))"
      ],
      "metadata": {
        "colab": {
          "base_uri": "https://localhost:8080/"
        },
        "id": "x6IP1gf91Lyg",
        "outputId": "5eadc5fd-9737-4920-ed47-1974b9dc485b"
      },
      "execution_count": null,
      "outputs": [
        {
          "output_type": "stream",
          "name": "stdout",
          "text": [
            "Downloading data from https://storage.googleapis.com/tensorflow/keras-applications/resnet/resnet50_weights_tf_dim_ordering_tf_kernels_notop.h5\n",
            "94773248/94765736 [==============================] - 1s 0us/step\n",
            "94781440/94765736 [==============================] - 1s 0us/step\n"
          ]
        }
      ]
    },
    {
      "cell_type": "code",
      "source": [
        "base.trainable = False"
      ],
      "metadata": {
        "id": "dCx5Qyuy1VP7"
      },
      "execution_count": null,
      "outputs": []
    },
    {
      "cell_type": "code",
      "source": [
        "model=Sequential()\n",
        "\n",
        "model.add(base)\n",
        "model.add(Flatten())\n",
        "model.add(Dense(units=32, activation=\"relu\"))\n",
        "model.add(Dense(units=16, activation=\"relu\"))\n",
        "model.add(Dense(units=1, activation=\"sigmoid\"))\n",
        "\n",
        "model.compile(loss=\"binary_crossentropy\",optimizer=\"adam\",metrics=[\"accuracy\"])"
      ],
      "metadata": {
        "id": "ix9A1Frn05bU"
      },
      "execution_count": null,
      "outputs": []
    },
    {
      "cell_type": "code",
      "source": [
        "hist=model.fit(train, validation_data=test, epochs=5)"
      ],
      "metadata": {
        "colab": {
          "base_uri": "https://localhost:8080/"
        },
        "id": "ifdX_Blm2EgA",
        "outputId": "c996c72b-612c-4b17-d848-05990625a8b4"
      },
      "execution_count": null,
      "outputs": [
        {
          "output_type": "stream",
          "name": "stdout",
          "text": [
            "Epoch 1/5\n",
            "52/52 [==============================] - 282s 4s/step - loss: -1072.0159 - accuracy: 0.7512 - val_loss: -30193.2715 - val_accuracy: 0.7647\n",
            "Epoch 2/5\n",
            "52/52 [==============================] - 17s 297ms/step - loss: -7335.3213 - accuracy: 0.7591 - val_loss: -272374.2812 - val_accuracy: 0.7647\n",
            "Epoch 3/5\n",
            "52/52 [==============================] - 17s 297ms/step - loss: -29982.8926 - accuracy: 0.7591 - val_loss: -5291333.5000 - val_accuracy: 0.7647\n",
            "Epoch 4/5\n",
            "52/52 [==============================] - 17s 294ms/step - loss: -87276.8516 - accuracy: 0.7591 - val_loss: -969137.1250 - val_accuracy: 0.7647\n",
            "Epoch 5/5\n",
            "52/52 [==============================] - 17s 299ms/step - loss: -228333.8281 - accuracy: 0.7591 - val_loss: -481811.1562 - val_accuracy: 0.7647\n"
          ]
        }
      ]
    },
    {
      "cell_type": "code",
      "source": [
        "base.trainable = True"
      ],
      "metadata": {
        "id": "QSxE2x3nC0DE"
      },
      "execution_count": null,
      "outputs": []
    },
    {
      "cell_type": "code",
      "source": [
        "hist=model.fit(train, validation_data=test, epochs=5)"
      ],
      "metadata": {
        "colab": {
          "base_uri": "https://localhost:8080/"
        },
        "id": "Xmjo3rr-C2NE",
        "outputId": "4ad05e1d-42cf-407e-dd18-9bdd199ecbbf"
      },
      "execution_count": null,
      "outputs": [
        {
          "output_type": "stream",
          "name": "stdout",
          "text": [
            "Epoch 1/5\n",
            "52/52 [==============================] - 17s 294ms/step - loss: -485451.5625 - accuracy: 0.7591 - val_loss: -275003.3750 - val_accuracy: 0.7647\n",
            "Epoch 2/5\n",
            "52/52 [==============================] - 17s 294ms/step - loss: -1009667.8750 - accuracy: 0.7591 - val_loss: -181735.5938 - val_accuracy: 0.7647\n",
            "Epoch 3/5\n",
            "52/52 [==============================] - 17s 293ms/step - loss: -1850002.7500 - accuracy: 0.7591 - val_loss: -2653521.2500 - val_accuracy: 0.7647\n",
            "Epoch 4/5\n",
            "52/52 [==============================] - 17s 295ms/step - loss: -3452356.7500 - accuracy: 0.7591 - val_loss: -3364111.7500 - val_accuracy: 0.7647\n",
            "Epoch 5/5\n",
            "52/52 [==============================] - 17s 296ms/step - loss: -5351973.5000 - accuracy: 0.7591 - val_loss: -1458323.0000 - val_accuracy: 0.7647\n"
          ]
        }
      ]
    },
    {
      "cell_type": "code",
      "source": [
        "model.evaluate(test)"
      ],
      "metadata": {
        "colab": {
          "base_uri": "https://localhost:8080/"
        },
        "id": "bUVe9F2xTTrl",
        "outputId": "45c0b44b-d68e-4922-e1fe-0d4ac09d03be"
      },
      "execution_count": null,
      "outputs": [
        {
          "output_type": "stream",
          "name": "stdout",
          "text": [
            "11/11 [==============================] - 2s 57ms/step - loss: -617841.7500 - accuracy: 0.7647\n"
          ]
        },
        {
          "output_type": "execute_result",
          "data": {
            "text/plain": [
              "[-617841.75, 0.7647058963775635]"
            ]
          },
          "metadata": {},
          "execution_count": 17
        }
      ]
    },
    {
      "cell_type": "code",
      "source": [
        "model.save('/content/drive/MyDrive')"
      ],
      "metadata": {
        "colab": {
          "base_uri": "https://localhost:8080/"
        },
        "id": "zpljTaE0yoSL",
        "outputId": "e7857fb5-4e83-4f3e-94fc-49122174c866"
      },
      "execution_count": null,
      "outputs": [
        {
          "output_type": "stream",
          "name": "stdout",
          "text": [
            "INFO:tensorflow:Assets written to: /content/drive/MyDrive/assets\n"
          ]
        }
      ]
    },
    {
      "cell_type": "code",
      "source": [
        "hist.history.keys()\n",
        "\n",
        "plt.figure()\n",
        "#plt.plot(hist.history[\"loss\"],label=\"Eğitim Loss\")\n",
        "plt.plot(hist.history[\"val_accuracy\"],label=\"val_accuracy\")\n",
        "plt.legend()\n",
        "plt.show()"
      ],
      "metadata": {
        "colab": {
          "base_uri": "https://localhost:8080/",
          "height": 265
        },
        "id": "FC4wUJD6ypxz",
        "outputId": "5d373745-79fe-4053-ec2e-b1b96d427630"
      },
      "execution_count": null,
      "outputs": [
        {
          "output_type": "display_data",
          "data": {
            "text/plain": [
              "<Figure size 432x288 with 1 Axes>"
            ],
            "image/png": "[encoded data removed]"
          },
          "metadata": {
            "needs_background": "light"
          }
        }
      ]
    },
    {
      "cell_type": "code",
      "source": [
        "hist.history.keys()\n",
        "\n",
        "plt.figure()\n",
        "plt.plot(hist.history[\"loss\"],label=\"Eğitim Loss\")\n",
        "#plt.plot(hist.history[\"val_accuracy\"],label=\"val_accuracy\")\n",
        "plt.legend()\n",
        "plt.show()"
      ],
      "metadata": {
        "colab": {
          "base_uri": "https://localhost:8080/",
          "height": 267
        },
        "id": "U0UQ_MEsNCsT",
        "outputId": "5e6393e3-aec7-4ed2-d113-283e1604547a"
      },
      "execution_count": null,
      "outputs": [
        {
          "output_type": "display_data",
          "data": {
            "text/plain": [
              "<Figure size 432x288 with 1 Axes>"
            ],
            "image/png": "[encoded data removed]"
          },
          "metadata": {
            "needs_background": "light"
          }
        }
      ]
    },
    {
      "cell_type": "code",
      "source": [
        "model = tf.keras.models.load_model(\"/content/drive/MyDrive\")"
      ],
      "metadata": {
        "id": "Cs0ZrkWvG3zH"
      },
      "execution_count": null,
      "outputs": []
    },
    {
      "cell_type": "code",
      "source": [
        "score=model.evaluate(test,verbose=1)\n",
        "print(\"Test loss:\",score[0])\n",
        "print(\"Test accuracy:\",score[1])"
      ],
      "metadata": {
        "colab": {
          "base_uri": "https://localhost:8080/"
        },
        "id": "LRyDMdMEGhJ4",
        "outputId": "f363bc58-3d91-4403-f562-d790ac8f6042"
      },
      "execution_count": null,
      "outputs": [
        {
          "output_type": "stream",
          "name": "stdout",
          "text": [
            "11/11 [==============================] - 33s 344ms/step - loss: -617841.6875 - accuracy: 0.7647\n",
            "Test loss: -617841.6875\n",
            "Test accuracy: 0.7647058963775635\n"
          ]
        }
      ]
    },
    {
      "cell_type": "code",
      "source": [
        "labelless_test = test.map(lambda x, y: x)"
      ],
      "metadata": {
        "id": "ZzG82m5ZHPDx"
      },
      "execution_count": null,
      "outputs": []
    },
    {
      "cell_type": "code",
      "source": [
        "import tensorflow_datasets as tfds"
      ],
      "metadata": {
        "id": "qZ1RO4RBIARZ"
      },
      "execution_count": null,
      "outputs": []
    },
    {
      "cell_type": "code",
      "source": [
        "test_labels = test.map(lambda x, y: y)"
      ],
      "metadata": {
        "id": "Ah-3GMHiHbRr"
      },
      "execution_count": null,
      "outputs": []
    },
    {
      "cell_type": "code",
      "source": [
        "temp = list()"
      ],
      "metadata": {
        "id": "4s61Yh1fJFaU"
      },
      "execution_count": null,
      "outputs": []
    },
    {
      "cell_type": "code",
      "source": [
        "for i in test_labels.as_numpy_iterator():\n",
        "  temp.append(i.tolist())"
      ],
      "metadata": {
        "id": "9uRi1xEuIwio"
      },
      "execution_count": null,
      "outputs": []
    },
    {
      "cell_type": "code",
      "source": [
        "y_true = list()"
      ],
      "metadata": {
        "id": "YaYdb_OCKjXH"
      },
      "execution_count": null,
      "outputs": []
    },
    {
      "cell_type": "code",
      "source": [
        "for i in temp:\n",
        "  for j in i:\n",
        "    y_true.append(j)"
      ],
      "metadata": {
        "id": "fARna74EJooS"
      },
      "execution_count": null,
      "outputs": []
    },
    {
      "cell_type": "code",
      "source": [
        "y_pred=model.predict(labelless_test)"
      ],
      "metadata": {
        "id": "b0SbNJ6sHzs_"
      },
      "execution_count": null,
      "outputs": []
    },
    {
      "cell_type": "code",
      "source": [
        "cm=confusion_matrix(y_true,y_pred)"
      ],
      "metadata": {
        "id": "0zl_khDOywnx"
      },
      "execution_count": null,
      "outputs": []
    },
    {
      "cell_type": "code",
      "source": [
        "f,ax=plt.subplots(figsize=(8,8))\n",
        "sns.heatmap(cm,annot=True,linewidths=0.01,cmap=\"Greens\",linecolor=\"gray\",fmt=\".1f\",ax=ax, \n",
        "            xticklabels=[\"Kırık Değil\", \"Kırık\"], yticklabels=[\"Kırık Değil\", \"Kırık\"])\n",
        "plt.xlabel(\"predicted\")\n",
        "plt.ylabel(\"true\")\n",
        "plt.title(\"cm\")\n",
        "plt.show()"
      ],
      "metadata": {
        "colab": {
          "base_uri": "https://localhost:8080/",
          "height": 513
        },
        "id": "wD60Iux1y040",
        "outputId": "ebcab384-369a-4c6c-b3bf-04950f49e141"
      },
      "execution_count": null,
      "outputs": [
        {
          "output_type": "display_data",
          "data": {
            "text/plain": [
              "<Figure size 576x576 with 2 Axes>"
            ],
            "image/png": "[encoded data removed]"
          },
          "metadata": {
            "needs_background": "light"
          }
        }
      ]
    },
    {
      "cell_type": "code",
      "source": [
        ""
      ],
      "metadata": {
        "id": "bsdDaf4Oy3um"
      },
      "execution_count": null,
      "outputs": []
    }
  ]
}